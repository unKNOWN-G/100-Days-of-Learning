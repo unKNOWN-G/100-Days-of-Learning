{
 "cells": [
  {
   "cell_type": "code",
   "execution_count": 209,
   "metadata": {},
   "outputs": [],
   "source": [
    "# Headers\n",
    "\n",
    "import numpy as np\n",
    "import pandas as pd\n",
    "import matplotlib.pyplot as plt\n",
    "\n",
    "%matplotlib inline\n",
    "\n",
    "# Model Requirements\n",
    "from sklearn.linear_model import LinearRegression\n",
    "from sklearn.model_selection import train_test_split"
   ]
  },
  {
   "cell_type": "code",
   "execution_count": 210,
   "metadata": {},
   "outputs": [
    {
     "data": {
      "text/html": [
       "<div>\n",
       "<style scoped>\n",
       "    .dataframe tbody tr th:only-of-type {\n",
       "        vertical-align: middle;\n",
       "    }\n",
       "\n",
       "    .dataframe tbody tr th {\n",
       "        vertical-align: top;\n",
       "    }\n",
       "\n",
       "    .dataframe thead th {\n",
       "        text-align: right;\n",
       "    }\n",
       "</style>\n",
       "<table border=\"1\" class=\"dataframe\">\n",
       "  <thead>\n",
       "    <tr style=\"text-align: right;\">\n",
       "      <th></th>\n",
       "      <th>PassengerId</th>\n",
       "      <th>Survived</th>\n",
       "      <th>Pclass</th>\n",
       "      <th>Name</th>\n",
       "      <th>Sex</th>\n",
       "      <th>Age</th>\n",
       "      <th>SibSp</th>\n",
       "      <th>Parch</th>\n",
       "      <th>Ticket</th>\n",
       "      <th>Fare</th>\n",
       "      <th>Cabin</th>\n",
       "      <th>Embarked</th>\n",
       "    </tr>\n",
       "  </thead>\n",
       "  <tbody>\n",
       "    <tr>\n",
       "      <th>0</th>\n",
       "      <td>1</td>\n",
       "      <td>0</td>\n",
       "      <td>3</td>\n",
       "      <td>Braund, Mr. Owen Harris</td>\n",
       "      <td>male</td>\n",
       "      <td>22.0</td>\n",
       "      <td>1</td>\n",
       "      <td>0</td>\n",
       "      <td>A/5 21171</td>\n",
       "      <td>7.2500</td>\n",
       "      <td>NaN</td>\n",
       "      <td>S</td>\n",
       "    </tr>\n",
       "    <tr>\n",
       "      <th>1</th>\n",
       "      <td>2</td>\n",
       "      <td>1</td>\n",
       "      <td>1</td>\n",
       "      <td>Cumings, Mrs. John Bradley (Florence Briggs Th...</td>\n",
       "      <td>female</td>\n",
       "      <td>38.0</td>\n",
       "      <td>1</td>\n",
       "      <td>0</td>\n",
       "      <td>PC 17599</td>\n",
       "      <td>71.2833</td>\n",
       "      <td>C85</td>\n",
       "      <td>C</td>\n",
       "    </tr>\n",
       "    <tr>\n",
       "      <th>2</th>\n",
       "      <td>3</td>\n",
       "      <td>1</td>\n",
       "      <td>3</td>\n",
       "      <td>Heikkinen, Miss. Laina</td>\n",
       "      <td>female</td>\n",
       "      <td>26.0</td>\n",
       "      <td>0</td>\n",
       "      <td>0</td>\n",
       "      <td>STON/O2. 3101282</td>\n",
       "      <td>7.9250</td>\n",
       "      <td>NaN</td>\n",
       "      <td>S</td>\n",
       "    </tr>\n",
       "    <tr>\n",
       "      <th>3</th>\n",
       "      <td>4</td>\n",
       "      <td>1</td>\n",
       "      <td>1</td>\n",
       "      <td>Futrelle, Mrs. Jacques Heath (Lily May Peel)</td>\n",
       "      <td>female</td>\n",
       "      <td>35.0</td>\n",
       "      <td>1</td>\n",
       "      <td>0</td>\n",
       "      <td>113803</td>\n",
       "      <td>53.1000</td>\n",
       "      <td>C123</td>\n",
       "      <td>S</td>\n",
       "    </tr>\n",
       "    <tr>\n",
       "      <th>4</th>\n",
       "      <td>5</td>\n",
       "      <td>0</td>\n",
       "      <td>3</td>\n",
       "      <td>Allen, Mr. William Henry</td>\n",
       "      <td>male</td>\n",
       "      <td>35.0</td>\n",
       "      <td>0</td>\n",
       "      <td>0</td>\n",
       "      <td>373450</td>\n",
       "      <td>8.0500</td>\n",
       "      <td>NaN</td>\n",
       "      <td>S</td>\n",
       "    </tr>\n",
       "  </tbody>\n",
       "</table>\n",
       "</div>"
      ],
      "text/plain": [
       "   PassengerId  Survived  Pclass  \\\n",
       "0            1         0       3   \n",
       "1            2         1       1   \n",
       "2            3         1       3   \n",
       "3            4         1       1   \n",
       "4            5         0       3   \n",
       "\n",
       "                                                Name     Sex   Age  SibSp  \\\n",
       "0                            Braund, Mr. Owen Harris    male  22.0      1   \n",
       "1  Cumings, Mrs. John Bradley (Florence Briggs Th...  female  38.0      1   \n",
       "2                             Heikkinen, Miss. Laina  female  26.0      0   \n",
       "3       Futrelle, Mrs. Jacques Heath (Lily May Peel)  female  35.0      1   \n",
       "4                           Allen, Mr. William Henry    male  35.0      0   \n",
       "\n",
       "   Parch            Ticket     Fare Cabin Embarked  \n",
       "0      0         A/5 21171   7.2500   NaN        S  \n",
       "1      0          PC 17599  71.2833   C85        C  \n",
       "2      0  STON/O2. 3101282   7.9250   NaN        S  \n",
       "3      0            113803  53.1000  C123        S  \n",
       "4      0            373450   8.0500   NaN        S  "
      ]
     },
     "execution_count": 210,
     "metadata": {},
     "output_type": "execute_result"
    }
   ],
   "source": [
    "# Importing Data\n",
    "\n",
    "data = pd.read_csv(\"./Dataset/titanicSurvival/train.csv\")\n",
    "test_data = pd.read_csv(\"./Dataset/titanicSurvival/test.csv\")\n",
    "data.head()"
   ]
  },
  {
   "cell_type": "code",
   "execution_count": 211,
   "metadata": {},
   "outputs": [
    {
     "name": "stdout",
     "output_type": "stream",
     "text": [
      "The shape of the dataset is 891 passengers and 12 features\n"
     ]
    }
   ],
   "source": [
    "print(\"The shape of the dataset is {0} passengers and {1} features\".format(data.shape[0],data.shape[1]))"
   ]
  },
  {
   "cell_type": "markdown",
   "metadata": {},
   "source": [
    "# Data Analysis\n",
    "\"\"\"\n",
    "\n",
    "1. Checking if we have Null Values or not in the data?\n",
    "    if we have we replace them mostly with statistical median else we replace them with mean\n",
    "2. Check if the data is skewed?\n",
    "    if skewed we need to transform it\n",
    "3. Analyze how different features effect your output\n",
    "4. Remove Dummies and also perform encoding for categorical data\n",
    "\n",
    "\"\"\"\n"
   ]
  },
  {
   "cell_type": "code",
   "execution_count": 212,
   "metadata": {},
   "outputs": [],
   "source": [
    "# Checking for null values\n",
    "data.isnull().sum()\n",
    "data[\"Cabin\"].replace(\"nan\",\"NaN\",inplace=True)"
   ]
  },
  {
   "cell_type": "code",
   "execution_count": 243,
   "metadata": {},
   "outputs": [],
   "source": [
    "# Filling Missing Data\n",
    "\n",
    "data[\"Age\"].fillna(data[\"Age\"].median(),inplace=True)\n",
    "data[\"Cabin\"].fillna(data[\"Cabin\"].mode(),inplace=True)\n",
    "\n",
    "test_data[\"Age\"].fillna(test_data[\"Age\"].median(),inplace=True)\n",
    "test_data[\"Cabin\"].fillna(test_data[\"Cabin\"].mode(),inplace=True)\n",
    "test_data[\"Fare\"].dropna(inplace = True)"
   ]
  },
  {
   "cell_type": "code",
   "execution_count": 244,
   "metadata": {},
   "outputs": [
    {
     "data": {
      "text/plain": [
       "array(['B96 B98', 'C85', 'G6', 'C123', nan, 'E46', 'C103', 'D56', 'A6',\n",
       "       'C23 C25 C27', 'B78', 'D33', 'B30', 'C52', 'B28', 'C83', 'F33',\n",
       "       'F G73', 'E31', 'A5', 'D10 D12', 'D26', 'C110', 'B58 B60', 'E101',\n",
       "       'F E69', 'D47', 'B86', 'F2', 'C2', 'E33', 'B19', 'A7', 'C49', 'F4',\n",
       "       'A32', 'B4', 'B80', 'A31', 'D36', 'D15', 'C93', 'C78', 'D35',\n",
       "       'C87', 'B77', 'E67', 'B94', 'C125', 'C99', 'C118', 'D7', 'A19',\n",
       "       'B49', 'D', 'C22 C26', 'C106', 'C65', 'E36', 'C54',\n",
       "       'B57 B59 B63 B66', 'C7', 'E34', 'C32', 'B18', 'C124', 'C91', 'E40',\n",
       "       'T', 'C128', 'D37', 'B35', 'E50', 'C82', 'E10', 'E44', 'A34',\n",
       "       'C104', 'C111', 'C92', 'E38', 'D21', 'E12', 'E63', 'A14', 'B37',\n",
       "       'C30', 'D20', 'B79', 'E25', 'D46', 'B73', 'C95', 'B38', 'B39',\n",
       "       'B22', 'C86', 'C70', 'A16', 'C101', 'C68', 'A10', 'E68', 'B41',\n",
       "       'A20', 'D19', 'D50', 'D9', 'A23', 'B50', 'A26', 'D48', 'E58',\n",
       "       'C126', 'B71', 'B51 B53 B55', 'D49', 'B5', 'B20', 'F G63',\n",
       "       'C62 C64', 'E24', 'C90', 'C45', 'E8', 'B101', 'D45', 'C46', 'D30',\n",
       "       'E121', 'D11', 'E77', 'F38', 'B3', 'D6', 'B82 B84', 'D17', 'A36',\n",
       "       'B102', 'B69', 'E49', 'C47', 'D28', 'E17', 'A24', 'C50', 'B42',\n",
       "       'C148'], dtype=object)"
      ]
     },
     "execution_count": 244,
     "metadata": {},
     "output_type": "execute_result"
    }
   ],
   "source": [
    "data[\"Cabin\"].unique()"
   ]
  },
  {
   "cell_type": "code",
   "execution_count": 247,
   "metadata": {},
   "outputs": [
    {
     "data": {
      "text/plain": [
       "PassengerId      0\n",
       "Pclass           0\n",
       "Name             0\n",
       "Age              0\n",
       "SibSp            0\n",
       "Parch            0\n",
       "Ticket           0\n",
       "Fare             1\n",
       "Cabin          326\n",
       "OHE_female       0\n",
       "OHE_male         0\n",
       "OHE_C            0\n",
       "OHE_Q            0\n",
       "OHE_S            0\n",
       "dtype: int64"
      ]
     },
     "execution_count": 247,
     "metadata": {},
     "output_type": "execute_result"
    }
   ],
   "source": [
    "# Checking for null values\n",
    "test_data_encode.isnull().sum()"
   ]
  },
  {
   "cell_type": "code",
   "execution_count": 248,
   "metadata": {},
   "outputs": [],
   "source": [
    "# Data Pre Processing\n",
    "\"\"\"\n",
    "1. Label Encoding\n",
    "2. One hot Encoding\n",
    "3. Dummy Variable Trap\n",
    "\"\"\"\n",
    "\n",
    "data_columns = [\"Sex\",\"Embarked\"]\n",
    "df_encode = pd.get_dummies(data=data,prefix=\"OHE\",prefix_sep=\"_\",columns=data_columns,dtype = 'int8')\n",
    "\n",
    "test_data_encode = pd.get_dummies(data=test_data,prefix=\"OHE\",prefix_sep=\"_\",columns=data_columns,dtype = 'int8')\n",
    "\n"
   ]
  },
  {
   "cell_type": "code",
   "execution_count": 249,
   "metadata": {},
   "outputs": [
    {
     "name": "stdout",
     "output_type": "stream",
     "text": [
      "Index(['PassengerId', 'Pclass', 'Name', 'Age', 'SibSp', 'Parch', 'Ticket',\n",
      "       'Fare', 'Cabin', 'OHE_female', 'OHE_male', 'OHE_C', 'OHE_Q', 'OHE_S'],\n",
      "      dtype='object')\n",
      "Index(['PassengerId', 'Survived', 'Pclass', 'Name', 'Age', 'SibSp', 'Parch',\n",
      "       'Ticket', 'Fare', 'Cabin', 'OHE_female', 'OHE_male', 'OHE_C', 'OHE_Q',\n",
      "       'OHE_S'],\n",
      "      dtype='object')\n"
     ]
    }
   ],
   "source": [
    "print(test_data_encode.columns)\n",
    "print(df_encode.columns)"
   ]
  },
  {
   "cell_type": "code",
   "execution_count": 250,
   "metadata": {},
   "outputs": [],
   "source": [
    "#data\n",
    "X = df_encode.drop(['PassengerId','Survived','Name','Cabin','Ticket'],axis = 1)\n",
    "y = df_encode['Survived']\n",
    "\n",
    "x_train,x_test,y_train,y_test = train_test_split(X,y,test_size = 0.3,random_state=28)\n",
    "\n"
   ]
  },
  {
   "cell_type": "code",
   "execution_count": 251,
   "metadata": {},
   "outputs": [
    {
     "data": {
      "text/plain": [
       "0     1.298318\n",
       "1    -0.200815\n",
       "2    -0.005194\n",
       "3    -0.048699\n",
       "4     0.007040\n",
       "5    -0.000442\n",
       "6     0.259916\n",
       "7    -0.259916\n",
       "8    -0.139328\n",
       "9    -0.157278\n",
       "10   -0.202874\n",
       "Name: Sklearn_theta, dtype: float64"
      ]
     },
     "execution_count": 251,
     "metadata": {},
     "output_type": "execute_result"
    }
   ],
   "source": [
    "model = LinearRegression()\n",
    "model.fit(x_train,y_train)\n",
    "\n",
    "sk_theta = [model.intercept_]+list(model.coef_)\n",
    "parameter_df = pd.Series(sk_theta, name='Sklearn_theta')\n",
    "parameter_df"
   ]
  },
  {
   "cell_type": "code",
   "execution_count": 254,
   "metadata": {},
   "outputs": [
    {
     "name": "stdout",
     "output_type": "stream",
     "text": [
      "Index(['Pclass', 'Age', 'SibSp', 'Parch', 'Fare', 'OHE_female', 'OHE_male',\n",
      "       'OHE_C', 'OHE_Q', 'OHE_S'],\n",
      "      dtype='object') Index(['Pclass', 'Age', 'SibSp', 'Parch', 'Fare', 'OHE_female', 'OHE_male',\n",
      "       'OHE_C', 'OHE_Q', 'OHE_S'],\n",
      "      dtype='object')\n"
     ]
    },
    {
     "data": {
      "text/plain": [
       "array([ 0.09601465,  0.4569894 ,  0.15316529,  0.0890071 ,  0.59154888,\n",
       "        0.15628406,  0.639309  ,  0.24436551,  0.71976712,  0.01592719,\n",
       "        0.08934611,  0.38427989,  0.95000205,  0.04646319,  0.83466528,\n",
       "        0.83165706,  0.29223367,  0.18435449,  0.56046606,  0.57952334,\n",
       "        0.33761029,  0.19197279,  1.00028995,  0.56907992,  0.82517438,\n",
       "       -0.08174133,  1.08345198,  0.17656306,  0.40826156,  0.04940006,\n",
       "        0.11398887,  0.19790952,  0.53778767,  0.56768214,  0.46819694,\n",
       "        0.19733834,  0.60910957,  0.64000444,  0.09902536,  0.06785686,\n",
       "        0.09515999,  0.48272807,  0.0166464 ,  0.79215311,  0.84886567,\n",
       "        0.09972177,  0.45138423,  0.13500679,  0.87270038,  0.57297073,\n",
       "        0.43482169,  0.35055133,  0.74931706,  0.76079969,  0.35030995,\n",
       "        0.02610351,  0.04779185,  0.09984336,  0.03701971,  0.9150835 ,\n",
       "        0.14128894,  0.26171182,  0.13615913,  0.6808209 ,  0.4314035 ,\n",
       "        0.80419863,  0.70152985,  0.37183409,  0.52461821,  0.70606091,\n",
       "        0.67042128,  0.12051181,  0.59877628,  0.53796503,  0.94277297,\n",
       "        0.43592703,  0.08927793,  0.76009806,  0.27232147,  0.67042128,\n",
       "        0.21706377,  0.1399343 ,  0.36869704,  0.08934611,  0.33451383,\n",
       "        0.1012935 ,  0.6547813 ,  0.65585812,  0.65483843,  0.3716813 ,\n",
       "        0.58379553,  0.08939953,  0.95668852,  0.08927793,  0.5569059 ,\n",
       "        0.09977889,  0.6762158 ,  0.07894463,  0.64555613,  0.05811223,\n",
       "        0.92152356,  0.23345737,  0.13500679,  0.09459381,  0.68792797,\n",
       "        0.0776833 ,  0.16614118,  0.13500679,  0.08898499,  0.33205572,\n",
       "        0.27782584,  0.65482552,  1.01708929,  0.69919619,  0.68054308,\n",
       "        0.14804204,  0.153537  ,  0.69867776,  0.4779958 ,  0.74290045,\n",
       "        0.88443425,  0.086308  ,  0.96205717,  0.08443738,  0.13500679,\n",
       "        0.66453332,  0.11536174,  0.55058729,  0.20999007,  0.10486078,\n",
       "        0.06330651,  0.41036057,  0.62956992,  0.10483821,  0.00623758,\n",
       "        0.10494735,  0.15578593,  0.2930986 ,  0.62988671, -0.00188256,\n",
       "        0.45082102,  0.9161233 ,  0.23781706,  0.27696188,  0.40481383,\n",
       "       -0.08199511,  0.47153575,  0.11524934,  0.48272807,  0.22491488,\n",
       "        1.06889302,  0.15289218,  0.57461413, -0.02903559,  0.10508186,\n",
       "        0.90584748,  0.62997328,  0.40481383,  0.62585316,  0.65484581,\n",
       "        0.21186949,  0.81270916,  0.0897422 ,  0.21518435,  0.56646616,\n",
       "        0.42660619,  0.0410696 ,  1.0655881 ,  0.63467751,  0.08949901,\n",
       "        0.15318879,  0.05876961,  0.15318693, -0.00206381,  0.87265175,\n",
       "        0.8335945 ,  0.3445548 ,  0.77061216,  0.86296778,  0.27232147,\n",
       "        0.42764263,  0.98886998,  0.13500679,  0.92674163,  0.21905214,\n",
       "        0.84240468,  0.04382319,  0.20640679,  0.22037864,  0.19709739,\n",
       "        0.48297126,  0.12527891,  0.15718231,  0.39205416,  0.05819881,\n",
       "        0.621703  ,  0.65597972,  0.30978686,  0.60908194,  0.65141165,\n",
       "        0.23908241,  0.30482544,  0.85902075,  0.29939829,  0.54663155,\n",
       "        0.61328417,  0.30459258,  1.03442241,  0.09973468,  0.05690617,\n",
       "        0.0897201 ,  0.31309611,  0.58187768,  0.37137962,  0.39776129,\n",
       "        0.6547813 ,  0.22408224,  0.82320029,  0.08927793,  0.80662089,\n",
       "        0.12044363,  0.83481279,  0.12055603,  0.93065834,  0.68355462,\n",
       "        0.11016746,  0.65483843,  0.01603784,  0.24115577,  0.33243737,\n",
       "        1.03372541,  0.07243205,  0.13494966,  0.41546443,  0.12572449,\n",
       "        0.28385342,  0.18954877,  0.81282607,  0.87300907,  0.92014818,\n",
       "        0.72080275,  0.36338683,  0.08934978,  0.0478505 ,  0.35011701,\n",
       "        0.83017005,  0.1597094 ,  0.74290045,  0.62112514,  0.90206283,\n",
       "        0.12569318,  0.44883578,  0.10429702,  0.06006823,  0.08949901,\n",
       "        0.13500679,  0.08408365,  0.84929022,  0.12056522, -0.01290079,\n",
       "        0.1205302 ,  0.80700644,  0.70067489,  0.33598361,  0.08934611,\n",
       "        0.49446757,  0.08949901,  0.60910957,  0.14094993,  0.42605297,\n",
       "        0.13500679,  0.97386171,  0.60271286,  0.15318879,  0.789649  ,\n",
       "        0.28381545,  0.16593169,  0.22008535,  0.31498114,  0.62961588,\n",
       "        0.18143802,  0.65483843,  0.72131257,  0.69193037,  0.04288312,\n",
       "        0.08963166,  0.42497612,  0.15318693,  0.08927793,  0.47695781,\n",
       "        0.63960931,  0.15318693,  0.28156285,  0.04188824,  0.09454039,\n",
       "        0.95907856,  0.04940006,  0.45876618,  0.07897594,  0.06342811,\n",
       "        0.3505458 ,  0.20829881,  0.10458995,  0.65483843,  0.76871282,\n",
       "        0.37725642,  0.23167785,  0.26602672,  0.46423492,  0.13575565,\n",
       "        0.1791602 ,  0.08948796,  0.6028956 ,  0.87243297,  0.70678864,\n",
       "        0.28869989,  0.33056399,  0.08936451,  0.20829809,  0.09459381,\n",
       "        0.1635755 ,  0.2930986 ,  0.45156238,  0.85852162,  0.11049723,\n",
       "        0.78379667,  0.42430274,  0.22306881,  0.31907001,  0.70223529,\n",
       "        0.48254993,  0.15318879,  0.66915047,  0.08934611,  0.46738842,\n",
       "        0.2619329 ,  0.10493624,  0.29011281,  0.15318693,  0.33575828,\n",
       "        0.06351469,  0.07674913,  0.69732844,  0.04476753,  0.66642355,\n",
       "        0.2930986 ,  0.61588146,  0.30326608,  0.7834215 ,  0.96337368,\n",
       "        0.29939829,  0.30790183,  0.11601939,  0.70831598,  0.36350276,\n",
       "        0.72792225,  0.08935345,  0.13500679,  0.54151169, -0.24849631,\n",
       "        0.83459261,  0.7834215 ,  0.0890071 ,  1.01502065,  0.59658077,\n",
       "        0.10129169,  0.62109197,  0.96512391,  0.34068231,  0.27103447,\n",
       "        0.99759686,  0.38019335,  0.1996015 ,  0.79620021,  0.86833496,\n",
       "        0.53741259,  0.31973326,  0.32691936,  0.01251867,  0.13500679,\n",
       "        0.14014394,  0.6062576 ,  0.59840562,  0.28795959,  0.76570811,\n",
       "        0.10498237,  0.13207583,  0.16617248,  0.05354266,  0.47390221,\n",
       "        0.87925545,  0.17068417,  0.18512407, -0.06634591,  0.98581903,\n",
       "        0.15081072,  0.89208739,  0.11537094,  0.11423704,  0.92581796,\n",
       "        0.17853109,  1.08459241,  0.5255844 ,  0.41394915,  0.387429  ,\n",
       "        0.26108807,  0.30336865,  0.65485134,  0.68958253,  0.65483843,\n",
       "        0.91945889,  0.60403689,  0.08927793,  0.96736204,  0.02989741,\n",
       "        0.08927793,  0.10483893])"
      ]
     },
     "execution_count": 254,
     "metadata": {},
     "output_type": "execute_result"
    }
   ],
   "source": [
    "formatted_test_data = test_data_encode.drop(['PassengerId','Name','Cabin','Ticket'],axis = 1)\n",
    "formatted_test_data = formatted_test_data.dropna()\n",
    "print(formatted_test_data.columns, X.columns)\n",
    "from sklearn.metrics import mean_squared_error\n",
    "pred_values = model.predict(formatted_test_data)\n",
    "\n",
    "pred_values"
   ]
  },
  {
   "cell_type": "code",
   "execution_count": null,
   "metadata": {},
   "outputs": [],
   "source": []
  },
  {
   "cell_type": "code",
   "execution_count": null,
   "metadata": {},
   "outputs": [],
   "source": []
  }
 ],
 "metadata": {
  "kernelspec": {
   "display_name": "GPU",
   "language": "python",
   "name": "gpu"
  },
  "language_info": {
   "codemirror_mode": {
    "name": "ipython",
    "version": 3
   },
   "file_extension": ".py",
   "mimetype": "text/x-python",
   "name": "python",
   "nbconvert_exporter": "python",
   "pygments_lexer": "ipython3",
   "version": "3.8.12"
  }
 },
 "nbformat": 4,
 "nbformat_minor": 4
}
